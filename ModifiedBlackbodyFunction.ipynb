{
 "cells": [
  {
   "cell_type": "markdown",
   "id": "68ecfcb3-99ca-4745-a603-16c8a7900308",
   "metadata": {},
   "source": [
    "Import the packages, and load the data into an array. Import constants"
   ]
  },
  {
   "cell_type": "code",
   "execution_count": 85,
   "id": "7aa48276",
   "metadata": {},
   "outputs": [],
   "source": [
    "import pandas as pd\n",
    "import matplotlib.pyplot as plt\n",
    "import numpy as np\n",
    "import matplotlib\n",
    "import random\n",
    "from mpl_toolkits import mplot3d\n",
    "import scipy as sp\n",
    "from scipy.optimize import curve_fit\n",
    "from scipy import stats\n",
    "from scipy.integrate import quad"
   ]
  },
  {
   "cell_type": "code",
   "execution_count": 78,
   "id": "788b9d7c-22fc-4056-abdc-d67864096985",
   "metadata": {},
   "outputs": [
    {
     "name": "stdout",
     "output_type": "stream",
     "text": [
      "     Redshift  Luminosity (From Data)  Temperature\n",
      "0       0.595            2.200000e+11         24.3\n",
      "1       0.221            4.700000e+10         24.5\n",
      "2       1.594            1.300000e+12         30.2\n",
      "3       0.882            4.500000e+11         19.1\n",
      "4       1.311            4.300000e+12         28.4\n",
      "..        ...                     ...          ...\n",
      "270     1.170            4.100000e+11         19.2\n",
      "271     0.652            1.100000e+11         19.0\n",
      "272     0.309            2.800000e+10         17.2\n",
      "273     0.839            3.100000e+11         27.6\n",
      "274     0.403            9.900000e+10         24.7\n",
      "\n",
      "[275 rows x 3 columns]\n"
     ]
    }
   ],
   "source": [
    "with open(\"df2.txt\") as f: #replace with the path name to your data.txt file\n",
    "    lines = f.readlines()\n",
    "data = []\n",
    "z = []\n",
    "T = []\n",
    "L_data = []\n",
    "\n",
    "for i in lines:\n",
    "    data.append([float(i[34:39]), float(i[131:139]), float(i[158: 164])])\n",
    "    z.append(data[-1][0])\n",
    "    L_data.append(data[-1][1])\n",
    "    T.append(data[-1][2])\n",
    "    \n",
    "df = pd.DataFrame(data, columns = ['Redshift', 'Luminosity (From Data)', 'Temperature'])\n",
    "print(df)"
   ]
  },
  {
   "cell_type": "code",
   "execution_count": 82,
   "id": "9695c81b-3819-45a2-8257-af7d91015fb1",
   "metadata": {},
   "outputs": [],
   "source": [
    "c = sp.constants.c\n",
    "h = sp.constants.h\n",
    "pi = sp.constants.pi\n",
    "k = sp.constants.k\n",
    "e = np.e"
   ]
  },
  {
   "cell_type": "markdown",
   "id": "a2db1d1a-527c-4dc9-b41b-dbef96947e95",
   "metadata": {},
   "source": [
    "Obtain the luminosity distances with the Luminosity_Distance function. z (Redshift) is the input parameter.\n",
    "Luminosity_Distance returns a quantity, so we parse it into a string to obtain the numbers, then cast it back into a float."
   ]
  },
  {
   "cell_type": "code",
   "execution_count": 80,
   "id": "fa59bf96-81a7-4965-8240-5f059e5b5c94",
   "metadata": {},
   "outputs": [],
   "source": [
    "from astropy.cosmology import WMAP9 as cosmo\n",
    "from astropy.cosmology import FlatLambdaCDM\n",
    "import astropy.units as u\n",
    "\n",
    "LumDist_raw = []\n",
    "\n",
    "for i in range(len(z)):\n",
    "    LumDist_raw.append(cosmo.luminosity_distance(z[i]))\n",
    "\n",
    "# print(LumDist_raw[0])\n",
    "# print(LumDist_raw)"
   ]
  },
  {
   "cell_type": "code",
   "execution_count": 81,
   "id": "b900f778-1a2b-4f23-baa2-d855e551ce40",
   "metadata": {},
   "outputs": [],
   "source": [
    "LumDist = []\n",
    "\n",
    "for i in range(len(z)):\n",
    "    s = str(LumDist_raw[i])\n",
    "    l = len(s)\n",
    "    \n",
    "    cutoff = 0\n",
    "    for j in range(len(s)):\n",
    "        if s[j] == ' ':\n",
    "            cutoff = j\n",
    "    LumDist.append(s[:j-3])\n",
    "    \n",
    "# print(LumDist)"
   ]
  },
  {
   "cell_type": "markdown",
   "id": "f8c54197-ba29-4a8c-bce5-daea79417214",
   "metadata": {},
   "source": [
    "Obtain flux"
   ]
  },
  {
   "cell_type": "code",
   "execution_count": 109,
   "id": "d386427d-0bc1-4c9c-a814-bc6606d7145f",
   "metadata": {},
   "outputs": [
    {
     "name": "stdout",
     "output_type": "stream",
     "text": [
      "3.1981849393842596e+18\n"
     ]
    }
   ],
   "source": [
    "A0 = 0.01\n",
    "A = A0 * (2*h / c**2)\n",
    "b = 0.01\n",
    "\n",
    "def integrand(A, b, T, z, x):\n",
    "    z1 = 1+z\n",
    "    p1 = (x/(z1))**(3+b)\n",
    "    exp = h*x/(k*T*z1)\n",
    "    p2 = 1/(e**(exp)-1)\n",
    "    p3 = 1/(z1)\n",
    "    return A*p1*p2*p3\n",
    "\n",
    "S = []\n",
    "                                            \n",
    "for i in range(len(z)):\n",
    "    myS =  quad(integrand, c/1000, c/8, args=(A,b,T[i],z[i]))\n",
    "    S.append(myS)\n",
    "                                            \n",
    "print(S[0][0])"
   ]
  },
  {
   "cell_type": "markdown",
   "id": "89fc998e-d252-407a-8177-da4481942dc3",
   "metadata": {},
   "source": [
    "Obtain Luminosity with flux above"
   ]
  },
  {
   "cell_type": "code",
   "execution_count": 110,
   "id": "99f16eb4-190f-43f6-a3c0-2751996a47f3",
   "metadata": {},
   "outputs": [],
   "source": [
    "L = []\n",
    "\n",
    "for i in range(len(z)):\n",
    "    DL = float(LumDist[i])\n",
    "    L.append(4*pi*DL*DL*S[i][0])\n",
    "\n",
    "# print(L)"
   ]
  },
  {
   "cell_type": "markdown",
   "id": "1b40abde-8631-4c9f-b9ad-48fb65aebd91",
   "metadata": {},
   "source": [
    "Compare calculated luminosity versus the luminosity from the raw data"
   ]
  },
  {
   "cell_type": "code",
   "execution_count": 112,
   "id": "0469f1e2-8364-412e-ac46-bfa3675461bd",
   "metadata": {},
   "outputs": [
    {
     "data": {
      "image/png": "[encoded data removed]",
      "text/plain": [
       "<Figure size 432x288 with 1 Axes>"
      ]
     },
     "metadata": {
      "needs_background": "light"
     },
     "output_type": "display_data"
    }
   ],
   "source": [
    "plt.scatter(T, L_data, color = \"blue\", alpha=0.5)\n",
    "plt.scatter(T, L, color = \"red\", alpha=0.5)\n",
    "plt.ylabel(\"Luminosity ($L_☉$)\")\n",
    "plt.xlabel(\"Temperature of dust(K)\")\n",
    "plt.title(\"Luminosity vs Temperature\")\n",
    "plt.legend([\"Luminosity from Data\", \"Calculated Luminosity\"], loc=\"upper right\")\n",
    "plt.show()"
   ]
  }
 ],
 "metadata": {
  "kernelspec": {
   "display_name": "Python 3 (ipykernel)",
   "language": "python",
   "name": "python3"
  },
  "language_info": {
   "codemirror_mode": {
    "name": "ipython",
    "version": 3
   },
   "file_extension": ".py",
   "mimetype": "text/x-python",
   "name": "python",
   "nbconvert_exporter": "python",
   "pygments_lexer": "ipython3",
   "version": "3.9.12"
  }
 },
 "nbformat": 4,
 "nbformat_minor": 5
}
